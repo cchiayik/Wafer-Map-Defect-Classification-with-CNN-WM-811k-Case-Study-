# Wafer Map Defect Classification (Demo)
# Using CNN with Keras/TensorFlow

import numpy as np
import cv2
import matplotlib.pyplot as plt
from tensorflow.keras import layers, models, optimizers
from tensorflow.keras.preprocessing.image import ImageDataGenerator
from tensorflow.keras.callbacks import EarlyStopping

# 1. Example Data (Toy Dataset)
# For demo purpose we use MNIST (handwritten digits).
# The real project used WM-811k wafer map dataset 
# (not shared here due to industry restrictions).
from tensorflow.keras.datasets import mnist
(X_train, y_train), (X_test, y_test) = mnist.load_data()

# Reshape to match CNN input format
X_train = X_train[..., np.newaxis] / 255.0
X_test = X_test[..., np.newaxis] / 255.0


# 2. CNN Model Architecture
def build_model(input_shape=(28,28,1), num_classes=10):
    model = models.Sequential([
        layers.Conv2D(32,(3,3),activation='relu',input_shape=input_shape),
        layers.BatchNormalization(),
        layers.MaxPooling2D((2,2)),

        layers.Conv2D(64,(3,3),activation='relu'),
        layers.BatchNormalization(),
        layers.MaxPooling2D((2,2)),

        layers.Flatten(),
        layers.Dense(128, activation='relu'),
        layers.Dropout(0.5),
        layers.Dense(num_classes, activation='softmax')
    ])
    model.compile(
        optimizer=optimizers.Adam(1e-3),
        loss='sparse_categorical_crossentropy',
        metrics=['accuracy']
    )
    return model

model = build_model()


# 3. Data Augmentation
datagen = ImageDataGenerator(
    rotation_range=10,
    width_shift_range=0.1,
    height_shift_range=0.1
)
datagen.fit(X_train)


# 4. Training (Demo Only)
callbacks = [
    EarlyStopping(monitor="val_accuracy", patience=5, restore_best_weights=True)
]

history = model.fit(
    datagen.flow(X_train, y_train, batch_size=64),
    validation_data=(X_test, y_test),
    epochs=10,  # short training for demo
    callbacks=callbacks,
    verbose=1
)


# 5. Plot Demo Results
plt.plot(history.history['accuracy'], label="Train Acc")
plt.plot(history.history['val_accuracy'], label="Val Acc")
plt.legend()
plt.title("Demo Training Curve (MNIST)")
plt.show()
